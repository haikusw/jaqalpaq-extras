{
 "cells": [
  {
   "cell_type": "markdown",
   "metadata": {},
   "source": [
    "## Bell State Preparation from Cirq"
   ]
  },
  {
   "cell_type": "code",
   "execution_count": 1,
   "metadata": {
    "execution": {
     "iopub.execute_input": "1970-01-01T00:00:00.000000Z",
     "iopub.status.busy": "1970-01-01T00:00:00.000000Z",
     "iopub.status.idle": "1970-01-01T00:00:00.000000Z",
     "shell.execute_reply": "1970-01-01T00:00:00.000000Z"
    },
    "tags": []
   },
   "outputs": [],
   "source": [
    "import cirq\n",
    "from jaqalpaq.transpilers.cirq import jaqal_circuit_from_cirq_circuit\n",
    "from jaqalpaq.generator import generate_jaqal_program"
   ]
  },
  {
   "cell_type": "code",
   "execution_count": 2,
   "metadata": {
    "execution": {
     "iopub.execute_input": "1970-01-01T00:00:00.000000Z",
     "iopub.status.busy": "1970-01-01T00:00:00.000000Z",
     "iopub.status.idle": "1970-01-01T00:00:00.000000Z",
     "shell.execute_reply": "1970-01-01T00:00:00.000000Z"
    },
    "tags": []
   },
   "outputs": [
    {
     "name": "stdout",
     "output_type": "stream",
     "text": [
      "0: ───H───@───\n",
      "          │\n",
      "1: ───────X───\n"
     ]
    }
   ],
   "source": [
    "cirq_bell = cirq.Circuit()\n",
    "qubits = [cirq.LineQubit(0), cirq.LineQubit(1)]\n",
    "cirq_bell.append(cirq.H.on(qubits[0]))\n",
    "cirq_bell.append(cirq.CNOT(*qubits))\n",
    "print(cirq_bell)"
   ]
  },
  {
   "cell_type": "code",
   "execution_count": 3,
   "metadata": {
    "execution": {
     "iopub.execute_input": "1970-01-01T00:00:00.000000Z",
     "iopub.status.busy": "1970-01-01T00:00:00.000000Z",
     "iopub.status.idle": "1970-01-01T00:00:00.000000Z",
     "shell.execute_reply": "1970-01-01T00:00:00.000000Z"
    },
    "tags": []
   },
   "outputs": [
    {
     "name": "stdout",
     "output_type": "stream",
     "text": [
      "0: ───PhX(1)───MS(0.25π)───PhX(-0.5)^0.5───S^-1───\n",
      "               │\n",
      "1: ────────────MS(0.25π)───PhX(1)^0.5─────────────\n"
     ]
    }
   ],
   "source": [
    "cirq_ion_bell = cirq.ConvertToIonGates().convert_circuit(cirq_bell)\n",
    "print(cirq_ion_bell)"
   ]
  },
  {
   "cell_type": "code",
   "execution_count": 4,
   "metadata": {
    "execution": {
     "iopub.execute_input": "1970-01-01T00:00:00.000000Z",
     "iopub.status.busy": "1970-01-01T00:00:00.000000Z",
     "iopub.status.idle": "1970-01-01T00:00:00.000000Z",
     "shell.execute_reply": "1970-01-01T00:00:00.000000Z"
    },
    "tags": []
   },
   "outputs": [
    {
     "name": "stdout",
     "output_type": "stream",
     "text": [
      "register allqubits[2]\n",
      "\n",
      "prepare_all\n",
      "R allqubits[0] 3.141592653589793 3.141592653589793\n",
      "MS allqubits[0] allqubits[1] 0 1.5707963267948966\n",
      "<\n",
      "\tR allqubits[0] -1.5707963267948972 1.5707963267948966\n",
      "\tR allqubits[1] 3.141592653589793 1.5707963267948966\n",
      ">\n",
      "Rz allqubits[0] -1.5707963267948966\n",
      "measure_all\n",
      "\n"
     ]
    }
   ],
   "source": [
    "jaqal_bell = jaqal_circuit_from_cirq_circuit(cirq_ion_bell)\n",
    "print(generate_jaqal_program(jaqal_bell))"
   ]
  },
  {
   "cell_type": "markdown",
   "metadata": {},
   "source": [
    "## Bell State Preparation from Quil"
   ]
  },
  {
   "cell_type": "code",
   "execution_count": 5,
   "metadata": {
    "execution": {
     "iopub.execute_input": "1970-01-01T00:00:00.000000Z",
     "iopub.status.busy": "1970-01-01T00:00:00.000000Z",
     "iopub.status.idle": "1970-01-01T00:00:00.000000Z",
     "shell.execute_reply": "1970-01-01T00:00:00.000000Z"
    },
    "tags": []
   },
   "outputs": [],
   "source": [
    "import pyquil\n",
    "from pyquil.gates import *\n",
    "from numpy import pi\n",
    "from jaqalpaq.transpilers.quil import get_ion_qc, quil_gates"
   ]
  },
  {
   "cell_type": "code",
   "execution_count": 6,
   "metadata": {
    "execution": {
     "iopub.execute_input": "1970-01-01T00:00:00.000000Z",
     "iopub.status.busy": "1970-01-01T00:00:00.000000Z",
     "iopub.status.idle": "1970-01-01T00:00:00.000000Z",
     "shell.execute_reply": "1970-01-01T00:00:00.000000Z"
    },
    "tags": []
   },
   "outputs": [
    {
     "name": "stdout",
     "output_type": "stream",
     "text": [
      "X 0\n",
      "MS(0,pi/2) 0 1\n",
      "R(-pi/2,pi/2) 0\n",
      "R(pi,pi/2) 1\n",
      "RZ(-pi/2) 0\n",
      "\n"
     ]
    }
   ],
   "source": [
    "qg = quil_gates()\n",
    "MS = qg[\"MS\"]\n",
    "R = qg[\"R\"]\n",
    "quil_bell = pyquil.Program()\n",
    "quil_bell += X(0)\n",
    "quil_bell += MS(0, pi/2, 0, 1)\n",
    "quil_bell += R(-pi/2, pi/2, 0)\n",
    "quil_bell += R(pi, pi/2, 1)\n",
    "quil_bell += RZ(-pi/2, 0)\n",
    "print(quil_bell)"
   ]
  },
  {
   "cell_type": "code",
   "execution_count": 7,
   "metadata": {
    "execution": {
     "iopub.execute_input": "1970-01-01T00:00:00.000000Z",
     "iopub.status.busy": "1970-01-01T00:00:00.000000Z",
     "iopub.status.idle": "1970-01-01T00:00:00.000000Z",
     "shell.execute_reply": "1970-01-01T00:00:00.000000Z"
    },
    "tags": []
   },
   "outputs": [
    {
     "name": "stdout",
     "output_type": "stream",
     "text": [
      "register qreg[2]\n",
      "\n",
      "{\n",
      "\tprepare_all\n",
      "\tPx qreg[0]\n",
      "\tMS qreg[0] qreg[1] 0.0 1.5707963267948966\n",
      "\tR qreg[0] -1.5707963267948966 1.5707963267948966\n",
      "\tR qreg[1] 3.141592653589793 1.5707963267948966\n",
      "\tRz qreg[0] -1.5707963267948966\n",
      "\tmeasure_all\n",
      "}\n",
      "\n"
     ]
    }
   ],
   "source": [
    "quil_qc = get_ion_qc(2)\n",
    "jaqal_bell = quil_qc.compile(quil_bell)\n",
    "print(generate_jaqal_program(jaqal_bell))"
   ]
  },
  {
   "cell_type": "markdown",
   "metadata": {},
   "source": [
    "## Bell State Preparation from ProjectQ"
   ]
  },
  {
   "cell_type": "code",
   "execution_count": 8,
   "metadata": {
    "execution": {
     "iopub.execute_input": "1970-01-01T00:00:00.000000Z",
     "iopub.status.busy": "1970-01-01T00:00:00.000000Z",
     "iopub.status.idle": "1970-01-01T00:00:00.000000Z",
     "shell.execute_reply": "1970-01-01T00:00:00.000000Z"
    },
    "tags": []
   },
   "outputs": [],
   "source": [
    "import projectq\n",
    "from projectq.cengines import MainEngine, DummyEngine\n",
    "from projectq.ops import H, CNOT, Measure, All\n",
    "from jaqalpaq.transpilers.projectq import get_engine_list, JaqalBackend"
   ]
  },
  {
   "cell_type": "code",
   "execution_count": 9,
   "metadata": {
    "execution": {
     "iopub.execute_input": "1970-01-01T00:00:00.000000Z",
     "iopub.status.busy": "1970-01-01T00:00:00.000000Z",
     "iopub.status.idle": "1970-01-01T00:00:00.000000Z",
     "shell.execute_reply": "1970-01-01T00:00:00.000000Z"
    },
    "tags": []
   },
   "outputs": [
    {
     "name": "stdout",
     "output_type": "stream",
     "text": [
      "register q[2]\n",
      "\n",
      "{\n",
      "\tprepare_all\n",
      "\tR q[0] 0 3.14159265359\n",
      "\tR q[0] 1.5707963267948966 3.141592653589413\n",
      "\tR q[0] 0 4.712388980384414\n",
      "\tR q[1] 0 1.570796326795\n",
      "\tMS q[0] q[1] 0 1.570796326795\n",
      "\tR q[0] 1.5707963267948966 1.570796326795\n",
      "\tmeasure_all\n",
      "}\n",
      "\n"
     ]
    }
   ],
   "source": [
    "backend = JaqalBackend()\n",
    "engine_list = get_engine_list()\n",
    "engine = MainEngine(backend, engine_list, verbose=True)\n",
    "q1 = engine.allocate_qubit()\n",
    "q2 = engine.allocate_qubit()\n",
    "H | q1\n",
    "CNOT | (q1, q2)\n",
    "All(Measure) | [q1, q2]\n",
    "engine.flush()\n",
    "print(generate_jaqal_program(backend.circuit))"
   ]
  },
  {
   "cell_type": "markdown",
   "metadata": {},
   "source": [
    "## The Automated Scheduler"
   ]
  },
  {
   "cell_type": "code",
   "execution_count": 10,
   "metadata": {
    "execution": {
     "iopub.execute_input": "1970-01-01T00:00:00.000000Z",
     "iopub.status.busy": "1970-01-01T00:00:00.000000Z",
     "iopub.status.idle": "1970-01-01T00:00:00.000000Z",
     "shell.execute_reply": "1970-01-01T00:00:00.000000Z"
    },
    "tags": []
   },
   "outputs": [],
   "source": [
    "from jaqalpaq.scheduler import schedule_circuit"
   ]
  },
  {
   "cell_type": "code",
   "execution_count": 11,
   "metadata": {
    "execution": {
     "iopub.execute_input": "1970-01-01T00:00:00.000000Z",
     "iopub.status.busy": "1970-01-01T00:00:00.000000Z",
     "iopub.status.idle": "1970-01-01T00:00:00.000000Z",
     "shell.execute_reply": "1970-01-01T00:00:00.000000Z"
    },
    "scrolled": true,
    "tags": []
   },
   "outputs": [
    {
     "name": "stdout",
     "output_type": "stream",
     "text": [
      "register q[2]\n",
      "\n",
      "{\n",
      "\tprepare_all\n",
      "\t<\n",
      "\t\tR q[0] 0 3.14159265359\n",
      "\t\tR q[1] 0 1.570796326795\n",
      "\t>\n",
      "\tR q[0] 1.5707963267948966 3.141592653589413\n",
      "\tR q[0] 0 4.712388980384414\n",
      "\tMS q[0] q[1] 0 1.570796326795\n",
      "\tR q[0] 1.5707963267948966 1.570796326795\n",
      "\tmeasure_all\n",
      "}\n",
      "\n"
     ]
    }
   ],
   "source": [
    "scheduled_circuit = schedule_circuit(backend.circuit)\n",
    "print(generate_jaqal_program(scheduled_circuit))"
   ]
  },
  {
   "cell_type": "markdown",
   "metadata": {},
   "source": [
    "## Detailed Example: VQE Transpilation from Qiskit"
   ]
  },
  {
   "cell_type": "markdown",
   "metadata": {},
   "source": [
    "### Constructing the VQE Circuit in Qiskit"
   ]
  },
  {
   "cell_type": "code",
   "execution_count": 12,
   "metadata": {
    "execution": {
     "iopub.execute_input": "1970-01-01T00:00:00.000000Z",
     "iopub.status.busy": "1970-01-01T00:00:00.000000Z",
     "iopub.status.idle": "1970-01-01T00:00:00.000000Z",
     "shell.execute_reply": "1970-01-01T00:00:00.000000Z"
    },
    "tags": []
   },
   "outputs": [],
   "source": [
    "import qiskit\n",
    "from qiskit_nature.drivers import UnitsType, Molecule\n",
    "from qiskit_nature.drivers.second_quantization import (\n",
    "    ElectronicStructureDriverType,\n",
    "    ElectronicStructureMoleculeDriver,\n",
    ")\n",
    "from qiskit_nature.problems.second_quantization import ElectronicStructureProblem\n",
    "from qiskit_nature.converters.second_quantization import QubitConverter\n",
    "from qiskit_nature.mappers.second_quantization import ParityMapper\n",
    "from qiskit_nature.circuit.library.ansatzes import UCCSD\n",
    "from qiskit_nature.circuit.library.initial_states import HartreeFock\n",
    "\n",
    "from qiskit.transpiler import PassManager\n",
    "\n",
    "from jaqalpaq.transpilers.qiskit import jaqal_circuit_from_qiskit_circuit, ion_pass_manager, get_ion_instance\n",
    "from jaqalpaq.run import run_jaqal_circuit"
   ]
  },
  {
   "cell_type": "code",
   "execution_count": 13,
   "metadata": {
    "execution": {
     "iopub.execute_input": "1970-01-01T00:00:00.000000Z",
     "iopub.status.busy": "1970-01-01T00:00:00.000000Z",
     "iopub.status.idle": "1970-01-01T00:00:00.000000Z",
     "shell.execute_reply": "1970-01-01T00:00:00.000000Z"
    },
    "tags": []
   },
   "outputs": [
    {
     "ename": "MissingOptionalLibraryError",
     "evalue": "\"The 'PySCF' library is required to use 'PySCFDriver'. You can install it with 'pip install 'qiskit-nature[pyscf]''.  See https://pyscf.org/install.html.\"",
     "output_type": "error",
     "traceback": [
      "\u001b[0;31m---------------------------------------------------------------------------\u001b[0m",
      "\u001b[0;31mMissingOptionalLibraryError\u001b[0m               Traceback (most recent call last)",
      "Input \u001b[0;32mIn [13]\u001b[0m, in \u001b[0;36m<cell line: 9>\u001b[0;34m()\u001b[0m\n\u001b[1;32m      4\u001b[0m driver \u001b[38;5;241m=\u001b[39m ElectronicStructureMoleculeDriver(\n\u001b[1;32m      5\u001b[0m     molecule, basis\u001b[38;5;241m=\u001b[39m\u001b[38;5;124m\"\u001b[39m\u001b[38;5;124msto6g\u001b[39m\u001b[38;5;124m\"\u001b[39m, driver_type\u001b[38;5;241m=\u001b[39mElectronicStructureDriverType\u001b[38;5;241m.\u001b[39mPYSCF\n\u001b[1;32m      6\u001b[0m )\n\u001b[1;32m      8\u001b[0m es_problem \u001b[38;5;241m=\u001b[39m ElectronicStructureProblem(driver)\n\u001b[0;32m----> 9\u001b[0m second_q_op \u001b[38;5;241m=\u001b[39m \u001b[43mes_problem\u001b[49m\u001b[38;5;241;43m.\u001b[39;49m\u001b[43msecond_q_ops\u001b[49m\u001b[43m(\u001b[49m\u001b[43m)\u001b[49m\n\u001b[1;32m     11\u001b[0m qubit_converter \u001b[38;5;241m=\u001b[39m QubitConverter(mapper\u001b[38;5;241m=\u001b[39mParityMapper(), two_qubit_reduction\u001b[38;5;241m=\u001b[39m\u001b[38;5;28;01mTrue\u001b[39;00m)\n\u001b[1;32m     12\u001b[0m qubit_op \u001b[38;5;241m=\u001b[39m qubit_converter\u001b[38;5;241m.\u001b[39mconvert(second_q_op[\u001b[38;5;241m0\u001b[39m], num_particles\u001b[38;5;241m=\u001b[39mes_problem\u001b[38;5;241m.\u001b[39mnum_particles)\n",
      "File \u001b[0;32m/Library/Frameworks/Python.framework/Versions/3.10/lib/python3.10/site-packages/qiskit_nature/problems/second_quantization/electronic/electronic_structure_problem.py:94\u001b[0m, in \u001b[0;36mElectronicStructureProblem.second_q_ops\u001b[0;34m(self)\u001b[0m\n\u001b[1;32m     82\u001b[0m \u001b[38;5;28;01mdef\u001b[39;00m \u001b[38;5;21msecond_q_ops\u001b[39m(\u001b[38;5;28mself\u001b[39m) \u001b[38;5;241m-\u001b[39m\u001b[38;5;241m>\u001b[39m ListOrDictType[SecondQuantizedOp]:\n\u001b[1;32m     83\u001b[0m     \u001b[38;5;124;03m\"\"\"Returns the second quantized operators associated with this Property.\u001b[39;00m\n\u001b[1;32m     84\u001b[0m \n\u001b[1;32m     85\u001b[0m \u001b[38;5;124;03m    If the arguments are returned as a `list`, the operators are in the following order: the\u001b[39;00m\n\u001b[0;32m   (...)\u001b[0m\n\u001b[1;32m     92\u001b[0m \u001b[38;5;124;03m        A `list` or `dict` of `SecondQuantizedOp` objects.\u001b[39;00m\n\u001b[1;32m     93\u001b[0m \u001b[38;5;124;03m    \"\"\"\u001b[39;00m\n\u001b[0;32m---> 94\u001b[0m     driver_result \u001b[38;5;241m=\u001b[39m \u001b[38;5;28;43mself\u001b[39;49m\u001b[38;5;241;43m.\u001b[39;49m\u001b[43mdriver\u001b[49m\u001b[38;5;241;43m.\u001b[39;49m\u001b[43mrun\u001b[49m\u001b[43m(\u001b[49m\u001b[43m)\u001b[49m\n\u001b[1;32m     96\u001b[0m     \u001b[38;5;28;01mif\u001b[39;00m \u001b[38;5;28mself\u001b[39m\u001b[38;5;241m.\u001b[39m_legacy_driver:\n\u001b[1;32m     97\u001b[0m         \u001b[38;5;28mself\u001b[39m\u001b[38;5;241m.\u001b[39m_molecule_data \u001b[38;5;241m=\u001b[39m cast(QMolecule, driver_result)\n",
      "File \u001b[0;32m/Library/Frameworks/Python.framework/Versions/3.10/lib/python3.10/site-packages/qiskit_nature/drivers/second_quantization/electronic_structure_molecule_driver.py:173\u001b[0m, in \u001b[0;36mElectronicStructureMoleculeDriver.run\u001b[0;34m(self)\u001b[0m\n\u001b[1;32m    172\u001b[0m \u001b[38;5;28;01mdef\u001b[39;00m \u001b[38;5;21mrun\u001b[39m(\u001b[38;5;28mself\u001b[39m) \u001b[38;5;241m-\u001b[39m\u001b[38;5;241m>\u001b[39m GroupedElectronicProperty:\n\u001b[0;32m--> 173\u001b[0m     driver_class \u001b[38;5;241m=\u001b[39m \u001b[43mElectronicStructureDriverType\u001b[49m\u001b[38;5;241;43m.\u001b[39;49m\u001b[43mdriver_class_from_type\u001b[49m\u001b[43m(\u001b[49m\n\u001b[1;32m    174\u001b[0m \u001b[43m        \u001b[49m\u001b[38;5;28;43mself\u001b[39;49m\u001b[38;5;241;43m.\u001b[39;49m\u001b[43mdriver_type\u001b[49m\u001b[43m,\u001b[49m\u001b[43m \u001b[49m\u001b[38;5;28;43mself\u001b[39;49m\u001b[38;5;241;43m.\u001b[39;49m\u001b[43mmethod\u001b[49m\n\u001b[1;32m    175\u001b[0m \u001b[43m    \u001b[49m\u001b[43m)\u001b[49m\n\u001b[1;32m    176\u001b[0m     driver \u001b[38;5;241m=\u001b[39m driver_class\u001b[38;5;241m.\u001b[39mfrom_molecule(  \u001b[38;5;66;03m# type: ignore\u001b[39;00m\n\u001b[1;32m    177\u001b[0m         \u001b[38;5;28mself\u001b[39m\u001b[38;5;241m.\u001b[39mmolecule, \u001b[38;5;28mself\u001b[39m\u001b[38;5;241m.\u001b[39mbasis, \u001b[38;5;28mself\u001b[39m\u001b[38;5;241m.\u001b[39mmethod, \u001b[38;5;28mself\u001b[39m\u001b[38;5;241m.\u001b[39mdriver_kwargs\n\u001b[1;32m    178\u001b[0m     )\n\u001b[1;32m    179\u001b[0m     \u001b[38;5;28;01mreturn\u001b[39;00m driver\u001b[38;5;241m.\u001b[39mrun()\n",
      "File \u001b[0;32m/Library/Frameworks/Python.framework/Versions/3.10/lib/python3.10/site-packages/qiskit_nature/drivers/second_quantization/electronic_structure_molecule_driver.py:84\u001b[0m, in \u001b[0;36mElectronicStructureDriverType.driver_class_from_type\u001b[0;34m(driver_type, method)\u001b[0m\n\u001b[1;32m     80\u001b[0m \u001b[38;5;28;01mif\u001b[39;00m class_obj \u001b[38;5;129;01mis\u001b[39;00m \u001b[38;5;28;01mNone\u001b[39;00m:\n\u001b[1;32m     81\u001b[0m     \u001b[38;5;28;01mraise\u001b[39;00m MissingOptionalLibraryError(\n\u001b[1;32m     82\u001b[0m         libname\u001b[38;5;241m=\u001b[39mdriver_type, name\u001b[38;5;241m=\u001b[39m\u001b[38;5;124m\"\u001b[39m\u001b[38;5;124mElectronicStructureDriverType\u001b[39m\u001b[38;5;124m\"\u001b[39m\n\u001b[1;32m     83\u001b[0m     )\n\u001b[0;32m---> 84\u001b[0m \u001b[43mclass_obj\u001b[49m\u001b[38;5;241;43m.\u001b[39;49m\u001b[43mcheck_installed\u001b[49m\u001b[43m(\u001b[49m\u001b[43m)\u001b[49m\n\u001b[1;32m     85\u001b[0m class_obj\u001b[38;5;241m.\u001b[39mcheck_method_supported(method)\n\u001b[1;32m     86\u001b[0m driver_class \u001b[38;5;241m=\u001b[39m class_obj\n",
      "File \u001b[0;32m/Library/Frameworks/Python.framework/Versions/3.10/lib/python3.10/site-packages/qiskit_nature/drivers/second_quantization/pyscfd/pyscfdriver.py:382\u001b[0m, in \u001b[0;36mPySCFDriver.check_installed\u001b[0;34m()\u001b[0m\n\u001b[1;32m    374\u001b[0m     logger\u001b[38;5;241m.\u001b[39mdebug(\u001b[38;5;124m\"\u001b[39m\u001b[38;5;124mPySCF check error \u001b[39m\u001b[38;5;132;01m%s\u001b[39;00m\u001b[38;5;124m\"\u001b[39m, \u001b[38;5;28mstr\u001b[39m(ex))\n\u001b[1;32m    375\u001b[0m     \u001b[38;5;28;01mraise\u001b[39;00m MissingOptionalLibraryError(\n\u001b[1;32m    376\u001b[0m         libname\u001b[38;5;241m=\u001b[39m\u001b[38;5;124m\"\u001b[39m\u001b[38;5;124mPySCF\u001b[39m\u001b[38;5;124m\"\u001b[39m,\n\u001b[1;32m    377\u001b[0m         name\u001b[38;5;241m=\u001b[39m\u001b[38;5;124m\"\u001b[39m\u001b[38;5;124mPySCFDriver\u001b[39m\u001b[38;5;124m\"\u001b[39m,\n\u001b[1;32m    378\u001b[0m         pip_install\u001b[38;5;241m=\u001b[39m\u001b[38;5;124m\"\u001b[39m\u001b[38;5;124mpip install \u001b[39m\u001b[38;5;124m'\u001b[39m\u001b[38;5;124mqiskit-nature[pyscf]\u001b[39m\u001b[38;5;124m'\u001b[39m\u001b[38;5;124m\"\u001b[39m,\n\u001b[1;32m    379\u001b[0m         msg\u001b[38;5;241m=\u001b[39m\u001b[38;5;124m\"\u001b[39m\u001b[38;5;124mSee https://pyscf.org/install.html\u001b[39m\u001b[38;5;124m\"\u001b[39m,\n\u001b[1;32m    380\u001b[0m     ) \u001b[38;5;28;01mfrom\u001b[39;00m \u001b[38;5;21;01mex\u001b[39;00m\n\u001b[0;32m--> 382\u001b[0m \u001b[38;5;28;01mraise\u001b[39;00m MissingOptionalLibraryError(\n\u001b[1;32m    383\u001b[0m     libname\u001b[38;5;241m=\u001b[39m\u001b[38;5;124m\"\u001b[39m\u001b[38;5;124mPySCF\u001b[39m\u001b[38;5;124m\"\u001b[39m,\n\u001b[1;32m    384\u001b[0m     name\u001b[38;5;241m=\u001b[39m\u001b[38;5;124m\"\u001b[39m\u001b[38;5;124mPySCFDriver\u001b[39m\u001b[38;5;124m\"\u001b[39m,\n\u001b[1;32m    385\u001b[0m     pip_install\u001b[38;5;241m=\u001b[39m\u001b[38;5;124m\"\u001b[39m\u001b[38;5;124mpip install \u001b[39m\u001b[38;5;124m'\u001b[39m\u001b[38;5;124mqiskit-nature[pyscf]\u001b[39m\u001b[38;5;124m'\u001b[39m\u001b[38;5;124m\"\u001b[39m,\n\u001b[1;32m    386\u001b[0m     msg\u001b[38;5;241m=\u001b[39m\u001b[38;5;124m\"\u001b[39m\u001b[38;5;124mSee https://pyscf.org/install.html\u001b[39m\u001b[38;5;124m\"\u001b[39m,\n\u001b[1;32m    387\u001b[0m )\n",
      "\u001b[0;31mMissingOptionalLibraryError\u001b[0m: \"The 'PySCF' library is required to use 'PySCFDriver'. You can install it with 'pip install 'qiskit-nature[pyscf]''.  See https://pyscf.org/install.html.\""
     ]
    }
   ],
   "source": [
    "molecule = Molecule(\n",
    "    geometry=[[\"H\", [0.0, 0.0, 0.0]], [\"H\", [0.735, 0.0, 0.0]]], charge=0, multiplicity=1\n",
    ")\n",
    "driver = ElectronicStructureMoleculeDriver(\n",
    "    molecule, basis=\"sto6g\", driver_type=ElectronicStructureDriverType.PYSCF\n",
    ")\n",
    "\n",
    "es_problem = ElectronicStructureProblem(driver)\n",
    "second_q_op = es_problem.second_q_ops()\n",
    "\n",
    "qubit_converter = QubitConverter(mapper=ParityMapper(), two_qubit_reduction=True)\n",
    "qubit_op = qubit_converter.convert(second_q_op[0], num_particles=es_problem.num_particles)\n",
    "\n",
    "num_spin_orbitals = 4\n",
    "initial_state = HartreeFock(num_spin_orbitals, es_problem.num_particles, qubit_converter)\n",
    "uccsd = UCCSD()\n",
    "uccsd.qubit_converter = qubit_converter\n",
    "uccsd.num_particles = es_problem.num_particles\n",
    "uccsd.initial_state = initial_state\n",
    "uccsd.num_spin_orbitals = num_spin_orbitals\n",
    "\n",
    "params = (4.881817576986406e-05, -1.5180312771430236e-05, -0.07605047960428524)\n",
    "superconducting_circuit = uccsd.assign_parameters(dict(zip(uccsd.parameters, params))).decompose()\n",
    "print(superconducting_circuit)"
   ]
  },
  {
   "cell_type": "markdown",
   "metadata": {},
   "source": [
    "### Unrolling to Ion Gates"
   ]
  },
  {
   "cell_type": "code",
   "execution_count": null,
   "metadata": {
    "execution": {
     "iopub.execute_input": "1970-01-01T00:00:00.000000Z",
     "iopub.status.busy": "1970-01-01T00:00:00.000000Z",
     "iopub.status.idle": "1970-01-01T00:00:00.000000Z",
     "shell.execute_reply": "1970-01-01T00:00:00.000000Z"
    },
    "tags": []
   },
   "outputs": [],
   "source": [
    "ion_circuit = ion_pass_manager().run(superconducting_circuit)\n",
    "print(ion_circuit)"
   ]
  },
  {
   "cell_type": "markdown",
   "metadata": {},
   "source": [
    "### Transpiling to Jaqal"
   ]
  },
  {
   "cell_type": "code",
   "execution_count": null,
   "metadata": {
    "execution": {
     "iopub.execute_input": "1970-01-01T00:00:00.000000Z",
     "iopub.status.busy": "1970-01-01T00:00:00.000000Z",
     "iopub.status.idle": "1970-01-01T00:00:00.000000Z",
     "shell.execute_reply": "1970-01-01T00:00:00.000000Z"
    },
    "tags": []
   },
   "outputs": [],
   "source": [
    "jaqal_circuit = jaqal_circuit_from_qiskit_circuit(ion_circuit)\n",
    "print(generate_jaqal_program(jaqal_circuit))"
   ]
  },
  {
   "cell_type": "markdown",
   "metadata": {},
   "source": [
    "### Scheduling and Emulation"
   ]
  },
  {
   "cell_type": "code",
   "execution_count": null,
   "metadata": {
    "execution": {
     "iopub.execute_input": "1970-01-01T00:00:00.000000Z",
     "iopub.status.busy": "1970-01-01T00:00:00.000000Z",
     "iopub.status.idle": "1970-01-01T00:00:00.000000Z",
     "shell.execute_reply": "1970-01-01T00:00:00.000000Z"
    },
    "tags": []
   },
   "outputs": [],
   "source": [
    "scheduled_jaqal_circuit = schedule_circuit(jaqal_circuit)\n",
    "print(generate_jaqal_program(scheduled_jaqal_circuit))"
   ]
  },
  {
   "cell_type": "code",
   "execution_count": null,
   "metadata": {
    "execution": {
     "iopub.execute_input": "1970-01-01T00:00:00.000000Z",
     "iopub.status.busy": "1970-01-01T00:00:00.000000Z",
     "iopub.status.idle": "1970-01-01T00:00:00.000000Z",
     "shell.execute_reply": "1970-01-01T00:00:00.000000Z"
    },
    "tags": []
   },
   "outputs": [],
   "source": [
    "run_jaqal_circuit(scheduled_jaqal_circuit).subcircuits[0].probability_by_str"
   ]
  },
  {
   "cell_type": "markdown",
   "metadata": {},
   "source": [
    "## Optimizing Circuits for Ion Hardware with t|ket>"
   ]
  },
  {
   "cell_type": "code",
   "execution_count": null,
   "metadata": {
    "execution": {
     "iopub.execute_input": "1970-01-01T00:00:00.000000Z",
     "iopub.status.busy": "1970-01-01T00:00:00.000000Z",
     "iopub.status.idle": "1970-01-01T00:00:00.000000Z",
     "shell.execute_reply": "1970-01-01T00:00:00.000000Z"
    },
    "tags": []
   },
   "outputs": [],
   "source": [
    "from jaqalpaq.transpilers.tket import jaqal_circuit_from_tket_circuit\n",
    "from pytket.predicates import CompilationUnit\n",
    "from pytket.extensions.qiskit import qiskit_to_tk\n",
    "from pytket.passes import SynthesiseUMD, DecomposeBoxes"
   ]
  },
  {
   "cell_type": "code",
   "execution_count": null,
   "metadata": {
    "execution": {
     "iopub.execute_input": "1970-01-01T00:00:00.000000Z",
     "iopub.status.busy": "1970-01-01T00:00:00.000000Z",
     "iopub.status.idle": "1970-01-01T00:00:00.000000Z",
     "shell.execute_reply": "1970-01-01T00:00:00.000000Z"
    },
    "tags": []
   },
   "outputs": [],
   "source": [
    "tket_circuit = qiskit_to_tk(superconducting_circuit)\n",
    "tket_circuit"
   ]
  },
  {
   "cell_type": "code",
   "execution_count": null,
   "metadata": {
    "execution": {
     "iopub.execute_input": "1970-01-01T00:00:00.000000Z",
     "iopub.status.busy": "1970-01-01T00:00:00.000000Z",
     "iopub.status.idle": "1970-01-01T00:00:00.000000Z",
     "shell.execute_reply": "1970-01-01T00:00:00.000000Z"
    }
   },
   "outputs": [],
   "source": [
    "unit = CompilationUnit(tket_circuit)\n",
    "DecomposeBoxes().apply(unit)\n",
    "SynthesiseUMD().apply(unit)\n",
    "tket_jaqal_circuit = jaqal_circuit_from_tket_circuit(unit.circuit)\n",
    "print(generate_jaqal_program(tket_jaqal_circuit))"
   ]
  },
  {
   "cell_type": "code",
   "execution_count": null,
   "metadata": {
    "execution": {
     "iopub.execute_input": "1970-01-01T00:00:00.000000Z",
     "iopub.status.busy": "1970-01-01T00:00:00.000000Z",
     "iopub.status.idle": "1970-01-01T00:00:00.000000Z",
     "shell.execute_reply": "1970-01-01T00:00:00.000000Z"
    }
   },
   "outputs": [],
   "source": [
    "optimized_jaqal_circuit = schedule_circuit(tket_jaqal_circuit)\n",
    "print(generate_jaqal_program(optimized_jaqal_circuit))"
   ]
  },
  {
   "cell_type": "code",
   "execution_count": null,
   "metadata": {
    "execution": {
     "iopub.execute_input": "1970-01-01T00:00:00.000000Z",
     "iopub.status.busy": "1970-01-01T00:00:00.000000Z",
     "iopub.status.idle": "1970-01-01T00:00:00.000000Z",
     "shell.execute_reply": "1970-01-01T00:00:00.000000Z"
    }
   },
   "outputs": [],
   "source": [
    "run_jaqal_circuit(optimized_jaqal_circuit).subcircuits[0].probability_by_str"
   ]
  },
  {
   "cell_type": "code",
   "execution_count": null,
   "metadata": {},
   "outputs": [],
   "source": []
  }
 ],
 "metadata": {
  "kernelspec": {
   "display_name": "Python 3 (ipykernel)",
   "language": "python",
   "name": "python3"
  },
  "language_info": {
   "codemirror_mode": {
    "name": "ipython",
    "version": 3
   },
   "file_extension": ".py",
   "mimetype": "text/x-python",
   "name": "python",
   "nbconvert_exporter": "python",
   "pygments_lexer": "ipython3",
   "version": "3.10.4"
  }
 },
 "nbformat": 4,
 "nbformat_minor": 4
}
